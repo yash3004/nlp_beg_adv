{
 "cells": [
  {
   "cell_type": "code",
   "execution_count": 1,
   "id": "83ca19c6-64ea-48e9-b4ef-11624376dfee",
   "metadata": {},
   "outputs": [],
   "source": [
    "### importing the imp libs ###\n",
    "import spacy "
   ]
  },
  {
   "cell_type": "code",
   "execution_count": 1,
   "id": "f8495d5c-0c4c-4779-9e0f-141c93992f43",
   "metadata": {},
   "outputs": [],
   "source": [
    "#word embedding models \n",
    "# to train a jensom model over the corpus of words \n",
    "to perform this we'll convert this words as the vectors as these vectos"
   ]
  },
  {
   "cell_type": "code",
   "execution_count": null,
   "id": "7f4b59ce-c9d0-4e07-bfbc-259f80691db8",
   "metadata": {},
   "outputs": [],
   "source": []
  },
  {
   "cell_type": "code",
   "execution_count": null,
   "id": "57afa512-e90e-4835-aa9c-741b33baf4bd",
   "metadata": {},
   "outputs": [],
   "source": []
  },
  {
   "cell_type": "code",
   "execution_count": null,
   "id": "b667068e-251b-4a63-bd22-5c5b851c5443",
   "metadata": {},
   "outputs": [],
   "source": []
  }
 ],
 "metadata": {
  "kernelspec": {
   "display_name": "Python 3 (ipykernel)",
   "language": "python",
   "name": "python3"
  },
  "language_info": {
   "codemirror_mode": {
    "name": "ipython",
    "version": 3
   },
   "file_extension": ".py",
   "mimetype": "text/x-python",
   "name": "python",
   "nbconvert_exporter": "python",
   "pygments_lexer": "ipython3",
   "version": "3.11.5"
  }
 },
 "nbformat": 4,
 "nbformat_minor": 5
}
